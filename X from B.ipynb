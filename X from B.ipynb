{
 "cells": [
  {
   "cell_type": "code",
   "execution_count": 19,
   "metadata": {},
   "outputs": [
    {
     "name": "stdout",
     "output_type": "stream",
     "text": [
      "Lead Shielding Thickness: 8.57 mm\n",
      "Concrete Shielding Thickness: 11.82 cm\n"
     ]
    }
   ],
   "source": [
    "import math\n",
    "\n",
    "# Lead Parameters (alpha, beta, gamma)\n",
    "lead_params = (1.543, -0.4408, 2.136)\n",
    "\n",
    "# Concrete Parameters (alpha, beta, gamma)\n",
    "concrete_params = (0.1539, -0.1161, 2.0752)\n",
    "\n",
    "# Function to calculate shielding thickness (X) based on transmission factor B\n",
    "def calculate_x(alpha, beta, gamma, B):\n",
    "    \"\"\"\n",
    "    Calculate the shielding thickness (X) using the Archer et al. model.\n",
    "\n",
    "    Parameters:\n",
    "    alpha, beta, gamma: Parameters specific to the material (lead or concrete).\n",
    "    B: Transmission factor.\n",
    "\n",
    "    Returns:\n",
    "    x: Calculated shielding thickness.\n",
    "    \"\"\"\n",
    "    numerator = (B ** (-gamma)) + (beta / alpha)\n",
    "    denominator = 1 + (beta / alpha)\n",
    "    x = (1 / (alpha * gamma)) * math.log(numerator / denominator)\n",
    "    return x\n",
    "\n",
    "# Example Transmission Factor (B)\n",
    "# 40 mm Pb --> B= 0.002444\n",
    "B =0.3087054949578103  # Replace this with actual B value\n",
    "\n",
    "# Calculate lead shielding thickness\n",
    "lead_thickness = calculate_x(*lead_params, B)\n",
    "print(f\"Lead Shielding Thickness: {lead_thickness /0.1:.2f} mm\")\n",
    "\n",
    "# Calculate concrete shielding thickness\n",
    "concrete_thickness = calculate_x(*concrete_params, B)\n",
    "print(f\"Concrete Shielding Thickness: {concrete_thickness:.2f} cm\")\n"
   ]
  },
  {
   "cell_type": "code",
   "execution_count": 17,
   "metadata": {},
   "outputs": [
    {
     "name": "stdout",
     "output_type": "stream",
     "text": [
      "Transmission Factor for Lead: 1.000000\n",
      "Transmission Factor for Concrete: 0.019438\n"
     ]
    }
   ],
   "source": [
    "#B from X\n",
    "\n",
    "import math\n",
    "\n",
    "# Lead Parameters (alpha, beta, gamma)\n",
    "lead_params = (1.543, -0.4408, 2.136)\n",
    "\n",
    "# Concrete Parameters (alpha, beta, gamma)\n",
    "concrete_params = (0.1539, -0.1161, 2.0752)\n",
    "\n",
    "# Function to calculate transmission factor (B) based on shielding thickness (X)\n",
    "def calculate_b(alpha, beta, gamma, X):\n",
    "    \"\"\"\n",
    "    Calculate the transmission factor (B) using the Archer et al. model.\n",
    "\n",
    "    Parameters:\n",
    "    alpha, beta, gamma: Parameters specific to the material (lead or concrete).\n",
    "    X: Shielding thickness.\n",
    "\n",
    "    Returns:\n",
    "    B: Calculated transmission factor.\n",
    "    \"\"\"\n",
    "    exponent_term = math.exp(alpha * gamma * X)\n",
    "    numerator = (1 + (beta / alpha)) * exponent_term - (beta / alpha)\n",
    "    B = numerator ** (-1 / gamma)\n",
    "    return B\n",
    "\n",
    "# Example Shielding Thickness (X)\n",
    "lead_thickness_example =0   # Example lead thickness in cm\n",
    "concrete_thickness_example = 30  # Example concrete thickness in cm\n",
    "\n",
    "# Calculate transmission factor for lead\n",
    "lead_B = calculate_b(*lead_params, lead_thickness_example)\n",
    "print(f\"Transmission Factor for Lead: {lead_B:.6f}\")\n",
    "\n",
    "# Calculate transmission factor for concrete\n",
    "concrete_B = calculate_b(*concrete_params, concrete_thickness_example)\n",
    "print(f\"Transmission Factor for Concrete: {concrete_B:.6f}\")\n"
   ]
  },
  {
   "cell_type": "code",
   "execution_count": 18,
   "metadata": {},
   "outputs": [
    {
     "data": {
      "text/plain": [
       "0.3087054949578103"
      ]
     },
     "execution_count": 18,
     "metadata": {},
     "output_type": "execute_result"
    }
   ],
   "source": []
  },
  {
   "cell_type": "markdown",
   "metadata": {},
   "source": [
    "# For Concrete  + Lead"
   ]
  },
  {
   "cell_type": "markdown",
   "metadata": {},
   "source": [
    "To combine concrete and lead to achieve a specific value of the transmission factor (B), you must assume that each protective layer independently reduces a specific amount of radiation. In this case, the final transmission factor 𝐵 final  is calculated as the product of two separate transmission factors for concrete and lead. In other words:\n",
    "\n",
    "𝐵 final = 𝐵 concrete × 𝐵 lead\n",
    "​\n",
    " \n",
    "Calculation Steps:\n",
    "\n",
    "First, calculate the transmission factor of concrete for a specified thickness of concrete.\n",
    "Then, use the following relationship to find the required transmission factor of lead \n",
    " \n",
    "​B lead = B concrete / B final\n",
    "​\n",
    "\n",
    " \n",
    "Once you have 𝐵 lead B lead , you can calculate the required thickness of lead using the equation you previously used for lead thickness."
   ]
  },
  {
   "cell_type": "code",
   "execution_count": 23,
   "metadata": {},
   "outputs": [
    {
     "name": "stdout",
     "output_type": "stream",
     "text": [
      "Transmission Factor for Concrete (30 cm): 0.004172\n",
      "Required Transmission Factor for Lead: 0.167800\n",
      "Required Lead Shielding Thickness: 12.57 mm\n"
     ]
    }
   ],
   "source": [
    "import math\n",
    "\n",
    "# Lead Parameters (alpha, beta, gamma)\n",
    "lead_params = (1.543, -0.4408, 2.136)\n",
    "\n",
    "# Concrete Parameters (alpha, beta, gamma)\n",
    "concrete_params = (0.1539, -0.1161, 2.0752)\n",
    "\n",
    "# Function to calculate transmission factor (B) based on shielding thickness (X)\n",
    "def calculate_b(alpha, beta, gamma, X):\n",
    "    exponent_term = math.exp(alpha * gamma * X)\n",
    "    numerator = (1 + (beta / alpha)) * exponent_term - (beta / alpha)\n",
    "    B = numerator ** (-1 / gamma)\n",
    "    return B\n",
    "\n",
    "# Example input for concrete thickness\n",
    "concrete_thickness = 40  # 30 cm of concrete\n",
    "\n",
    "# Desired final transmission factor\n",
    "B_final = 0.0007\n",
    "\n",
    "# Calculate transmission factor for concrete\n",
    "B_concrete = calculate_b(*concrete_params, concrete_thickness)\n",
    "print(f\"Transmission Factor for Concrete (30 cm): {B_concrete:.6f}\")\n",
    "\n",
    "# Calculate required transmission factor for lead\n",
    "B_lead = B_final / B_concrete\n",
    "print(f\"Required Transmission Factor for Lead: {B_lead:.6f}\")\n",
    "\n",
    "# Function to calculate shielding thickness (X) based on transmission factor B\n",
    "def calculate_x(alpha, beta, gamma, B):\n",
    "    numerator = (B ** (-gamma)) + (beta / alpha)\n",
    "    denominator = 1 + (beta / alpha)\n",
    "    x = (1 / (alpha * gamma)) * math.log(numerator / denominator)\n",
    "    return x\n",
    "\n",
    "# Calculate required lead shielding thickness\n",
    "lead_thickness = calculate_x(*lead_params, B_lead)\n",
    "print(f\"Required Lead Shielding Thickness: {lead_thickness / 0.1:.2f} mm\")\n"
   ]
  }
 ],
 "metadata": {
  "kernelspec": {
   "display_name": "Python 3",
   "language": "python",
   "name": "python3"
  },
  "language_info": {
   "codemirror_mode": {
    "name": "ipython",
    "version": 3
   },
   "file_extension": ".py",
   "mimetype": "text/x-python",
   "name": "python",
   "nbconvert_exporter": "python",
   "pygments_lexer": "ipython3",
   "version": "3.12.4"
  }
 },
 "nbformat": 4,
 "nbformat_minor": 2
}
