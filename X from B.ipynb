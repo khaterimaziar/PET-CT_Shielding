{
 "cells": [
  {
   "cell_type": "code",
   "execution_count": 34,
   "metadata": {},
   "outputs": [
    {
     "name": "stdout",
     "output_type": "stream",
     "text": [
      "Lead Shielding Thickness: 15.94 mm\n",
      "Concrete Shielding Thickness: 19.34 cm\n"
     ]
    }
   ],
   "source": [
    "import math\n",
    "\n",
    "# Lead Parameters (alpha, beta, gamma)\n",
    "lead_params = (1.543, -0.4408, 2.136)\n",
    "\n",
    "# Concrete Parameters (alpha, beta, gamma)\n",
    "concrete_params = (0.1539, -0.1161, 2.0752)\n",
    "\n",
    "# Function to calculate shielding thickness (X) based on transmission factor B\n",
    "def calculate_x(alpha, beta, gamma, B):\n",
    "    \"\"\"\n",
    "    Calculate the shielding thickness (X) using the Archer et al. model.\n",
    "\n",
    "    Parameters:\n",
    "    alpha, beta, gamma: Parameters specific to the material (lead or concrete).\n",
    "    B: Transmission factor.\n",
    "\n",
    "    Returns:\n",
    "    x: Calculated shielding thickness.\n",
    "    \"\"\"\n",
    "    numerator = (B ** (-gamma)) + (beta / alpha)\n",
    "    denominator = 1 + (beta / alpha)\n",
    "    x = (1 / (alpha * gamma)) * math.log(numerator / denominator)\n",
    "    return x\n",
    "\n",
    "# Example Transmission Factor (B)\n",
    "# 40 mm Pb --> B= 0.002444\n",
    "B = 0.1 # Replace this with actual B value\n",
    "\n",
    "# Calculate lead shielding thickness\n",
    "lead_thickness = calculate_x(*lead_params, B)\n",
    "print(f\"Lead Shielding Thickness: {lead_thickness /0.1:.2f} mm\")\n",
    "\n",
    "# Calculate concrete shielding thickness\n",
    "concrete_thickness = calculate_x(*concrete_params, B)\n",
    "print(f\"Concrete Shielding Thickness: {concrete_thickness:.2f} cm\")\n"
   ]
  },
  {
   "cell_type": "code",
   "execution_count": null,
   "metadata": {},
   "outputs": [],
   "source": []
  }
 ],
 "metadata": {
  "kernelspec": {
   "display_name": "Python 3",
   "language": "python",
   "name": "python3"
  },
  "language_info": {
   "codemirror_mode": {
    "name": "ipython",
    "version": 3
   },
   "file_extension": ".py",
   "mimetype": "text/x-python",
   "name": "python",
   "nbconvert_exporter": "python",
   "pygments_lexer": "ipython3",
   "version": "3.12.4"
  }
 },
 "nbformat": 4,
 "nbformat_minor": 2
}
