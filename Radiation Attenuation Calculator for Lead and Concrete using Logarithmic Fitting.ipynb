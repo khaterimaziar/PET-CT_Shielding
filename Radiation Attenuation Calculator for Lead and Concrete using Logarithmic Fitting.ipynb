{
 "cells": [
  {
   "cell_type": "markdown",
   "metadata": {},
   "source": [
    "\"Radiation Attenuation Calculator for Lead and Concrete using Logarithmic Fitting\""
   ]
  },
  {
   "cell_type": "code",
   "execution_count": 1,
   "metadata": {},
   "outputs": [
    {
     "name": "stdout",
     "output_type": "stream",
     "text": [
      "B for 60 mm Lead: 0.0001151057090482823\n",
      "B for 60 cm Concrete: 0.00026419976246240453\n"
     ]
    }
   ],
   "source": [
    "import numpy as np\n",
    "\n",
    "# داده‌های ضخامت و فاکتور انتقال برای سرب و بتن\n",
    "thickness_lead = np.array([0, 1, 2, 3, 4, 5, 6, 7, 8, 9, 10, 12, 14, 16, 18, 20, 25, 30, 40, 50])  # میلی‌متر\n",
    "transmission_lead = np.array([1.0000, 0.8912, 0.7873, 0.6905, 0.6021, 0.5227, 0.4522, 0.3903, 0.3362, 0.2892, \n",
    "                              0.2485, 0.1831, 0.1347, 0.0990, 0.0728, 0.0535, 0.0247, 0.0114, 0.0024, 0.0005])\n",
    "\n",
    "thickness_concrete = np.array([0, 1, 2, 3, 4, 5, 6, 7, 8, 9, 10, 12, 14, 16, 18, 20, 25, 30, 40, 50])  # سانتی‌متر\n",
    "transmission_concrete = np.array([1.0000, 0.9583, 0.9088, 0.8519, 0.7889, 0.7218, 0.6528, 0.5842, 0.5180, 0.4558, \n",
    "                                  0.3987, 0.3008, 0.2243, 0.1662, 0.1227, 0.0904, 0.0419, 0.0194, 0.0042, 0.0009])\n",
    "\n",
    "# برازش مدل لگاریتمی به داده‌ها\n",
    "log_lead_fit = np.polyfit(thickness_lead, np.log(transmission_lead), 1)\n",
    "log_concrete_fit = np.polyfit(thickness_concrete, np.log(transmission_concrete), 1)\n",
    "\n",
    "def calculate_B_lead(thickness_mm):\n",
    "    \"\"\"\n",
    "    محاسبه فاکتور انتقال (B) برای ضخامت سرب (میلی‌متر).\n",
    "    \"\"\"\n",
    "    B_lead = np.exp(log_lead_fit[0] * thickness_mm + log_lead_fit[1])\n",
    "    return B_lead\n",
    "\n",
    "def calculate_B_concrete(thickness_cm):\n",
    "    \"\"\"\n",
    "    محاسبه فاکتور انتقال (B) برای ضخامت بتن (سانتی‌متر).\n",
    "    \"\"\"\n",
    "    B_concrete = np.exp(log_concrete_fit[0] * thickness_cm + log_concrete_fit[1])\n",
    "    return B_concrete\n",
    "\n",
    "# مثال استفاده:\n",
    "thickness_lead_60mm = 60  # ضخامت سرب به میلی‌متر\n",
    "thickness_concrete_60cm = 60  # ضخامت بتن به سانتی‌متر\n",
    "\n",
    "B_lead = calculate_B_lead(thickness_lead_60mm)\n",
    "B_concrete = calculate_B_concrete(thickness_concrete_60cm)\n",
    "\n",
    "print(f\"B for 60 mm Lead: {B_lead}\")\n",
    "print(f\"B for 60 cm Concrete: {B_concrete}\")\n"
   ]
  }
 ],
 "metadata": {
  "kernelspec": {
   "display_name": "Python 3",
   "language": "python",
   "name": "python3"
  },
  "language_info": {
   "codemirror_mode": {
    "name": "ipython",
    "version": 3
   },
   "file_extension": ".py",
   "mimetype": "text/x-python",
   "name": "python",
   "nbconvert_exporter": "python",
   "pygments_lexer": "ipython3",
   "version": "3.12.4"
  }
 },
 "nbformat": 4,
 "nbformat_minor": 2
}
