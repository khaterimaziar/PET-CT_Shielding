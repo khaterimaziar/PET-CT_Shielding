{
 "cells": [
  {
   "cell_type": "code",
<<<<<<< HEAD
<<<<<<< HEAD
   "execution_count": 3,
=======
   "execution_count": 6,
>>>>>>> 58c48dc (PET_SHIELDING_SCAN_ROOM)
=======
   "execution_count": 4,
>>>>>>> 572fab3 (Final HOTLAB)
   "metadata": {},
   "outputs": [
    {
     "name": "stdout",
     "output_type": "stream",
     "text": [
      "Controlled Area (P = 15 µSv):\n",
      "  Lead Thickness: 4 mm\n",
      "  Concrete Thickness: 6 cm\n",
      "Uncontrolled Area (P = 3 µSv):\n",
      "  Lead Thickness: 14 mm\n",
      "  Concrete Thickness: 18 cm\n"
     ]
    }
   ],
   "source": [
<<<<<<< HEAD
    "\n",
    "\n",
=======
>>>>>>> 58c48dc (PET_SHIELDING_SCAN_ROOM)
    "import math\n",
    "import numpy as np\n",
    "import matplotlib.pyplot as plt\n",
    "\n",
    "# Constants\n",
    "A_source = 100000  # Initial radioactive source activity in MBq\n",
    "P_controlled = 15  # Daily dose limit for controlled areas (µSv)\n",
    "P_uncontrolled = 3  # Daily dose limit for uncontrolled areas (µSv)\n",
    "T = 1  # Occupancy factor\n",
    "dose_rate_constant = 0.092  # µSv m²/MBq h, dose rate constant for FDG\n",
    "vial_shielding_factor = 0.0024  # 99.76% shielding by the 40mm vial\n",
    "distance = 1  # Distance from the source to the barrier in meters\n",
    "half_life = 110  # Half-life of FDG in minutes\n",
    "\n",
    "# Convert half-life to hours\n",
    "half_life_hours = half_life / 60\n",
    "\n",
    "# Transmission factors for Lead and Concrete\n",
    "transmission_factors = {\n",
    "    \"Lead\": {\n",
    "        0: 1.0000, 1: 0.8912, 2: 0.7873, 3: 0.6905, 4: 0.6021,\n",
    "        5: 0.5227, 6: 0.4522, 7: 0.3903, 8: 0.3362, 9: 0.2892,\n",
    "        10: 0.2485, 12: 0.1831, 14: 0.1347, 16: 0.0990, 18: 0.0728,\n",
    "        20: 0.0535, 25: 0.0247, 30: 0.0114, 40: 0.0024, 50: 0.0005\n",
    "    },\n",
    "    \"Concrete\": {\n",
    "        0: 1.0000, 1: 0.9583, 2: 0.9088, 3: 0.8519, 4: 0.7889,\n",
    "        5: 0.7218, 6: 0.6528, 7: 0.5842, 8: 0.5180, 9: 0.4558,\n",
    "        10: 0.3987, 12: 0.3008, 14: 0.2243, 16: 0.1662, 18: 0.1227,\n",
    "        20: 0.0904, 25: 0.0419, 30: 0.0194, 40: 0.0042, 50: 0.0009\n",
    "    }\n",
    "}\n",
    "\n",
    "# Function to calculate transmission factor (B)\n",
    "def calculate_transmission_factor(P, d, T, A_source, shielding_factor):\n",
    "    B = (P * d ** 2) / (T * A_source * shielding_factor * dose_rate_constant)\n",
    "    return B\n",
    "\n",
    "# Function to find the required thickness for a material (Lead/Concrete)\n",
    "def find_thickness(B, material):\n",
    "    factors = transmission_factors[material]\n",
    "    for thickness, factor in factors.items():\n",
    "        if factor <= B:\n",
    "            return thickness  # Returns the first thickness where the factor is less than or equal to B\n",
    "    return None\n",
    "\n",
    "# Calculate transmission factors for controlled and uncontrolled areas\n",
    "B_controlled = calculate_transmission_factor(P_controlled, distance, T, A_source, vial_shielding_factor)\n",
    "B_uncontrolled = calculate_transmission_factor(P_uncontrolled, distance, T, A_source, vial_shielding_factor)\n",
    "\n",
    "# Calculate required thickness for both Lead and Concrete\n",
    "lead_thickness_controlled = find_thickness(B_controlled, \"Lead\")\n",
    "concrete_thickness_controlled = find_thickness(B_controlled, \"Concrete\")\n",
    "\n",
    "lead_thickness_uncontrolled = find_thickness(B_uncontrolled, \"Lead\")\n",
    "concrete_thickness_uncontrolled = find_thickness(B_uncontrolled, \"Concrete\")\n",
    "\n",
    "# Output results\n",
    "print(f\"Controlled Area (P = {P_controlled} µSv):\")\n",
    "print(f\"  Lead Thickness: {lead_thickness_controlled} mm\")\n",
    "print(f\"  Concrete Thickness: {concrete_thickness_controlled} cm\")\n",
    "\n",
    "print(f\"Uncontrolled Area (P = {P_uncontrolled} µSv):\")\n",
    "print(f\"  Lead Thickness: {lead_thickness_uncontrolled} mm\")\n",
    "print(f\"  Concrete Thickness: {concrete_thickness_uncontrolled} cm\")\n",
    "\n",
    "# Decay Curve Calculation\n",
    "def decay_curve(A0, half_life, time_hours):\n",
    "    \"\"\"Calculate activity at different times using radioactive decay equation.\"\"\"\n",
    "    lambda_decay = math.log(2) / half_life  # Decay constant\n",
    "    activity_over_time = A0 * np.exp(-lambda_decay * time_hours)\n",
    "    return activity_over_time\n"
   ]
  },
  {
   "cell_type": "code",
   "execution_count": null,
   "metadata": {},
   "outputs": [],
   "source": []
  }
 ],
 "metadata": {
  "kernelspec": {
   "display_name": "Python 3",
   "language": "python",
   "name": "python3"
  },
  "language_info": {
   "codemirror_mode": {
    "name": "ipython",
    "version": 3
   },
   "file_extension": ".py",
   "mimetype": "text/x-python",
   "name": "python",
   "nbconvert_exporter": "python",
   "pygments_lexer": "ipython3",
   "version": "3.12.4"
  }
 },
 "nbformat": 4,
 "nbformat_minor": 2
}
