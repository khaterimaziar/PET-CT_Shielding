{
 "cells": [
  {
   "cell_type": "code",
   "execution_count": 1,
   "metadata": {},
   "outputs": [
    {
     "name": "stdout",
     "output_type": "stream",
     "text": [
      "Input values - Nw: 48, d: 1.0, tU: 1.0,\n",
      "RtU: 0.8324541127798754\n",
      "\n",
      "Transmission Factor (B) for the uptake room (Uncontrolled area): 0.0164 \n",
      "Transmission Factor (B) for the uptake room (Controlled area): 0.0819 \n"
     ]
    }
   ],
   "source": [
    "import math\n",
    "\n",
    "\n",
    "# Constants\n",
    "A0 = 333  # Administered activity (MBq)\n",
    "T = 1  # Occupancy factor1\n",
    "T1_2 = 109.8 / 60  # Radionuclide half-life in hours (109.8 minutes)\n",
    "dr = 0.092  # Dose rate immediately after administration (µSv m²/MBq h)\n",
    "P_controlled = 100  # Weekly dose limit for controlled areas (µSv)\n",
    "P_uncontrolled = 20  # Weekly dose limit for uncontrolled areas (µSv)\n",
    "\n",
    "# Function to get user input for variables\n",
    "def get_inputs():\n",
    "    Nw = int(input(\"Enter Number of patients per week: \"))\n",
    "    d = float(input(\"Enter Distance from source to barrier (m): \"))\n",
    "    tU = float(input(\"Enter Uptake time (hours): \"))\n",
    "    print(f\"Input values - Nw: {Nw}, d: {d}, tU: {tU},\")\n",
    "    return Nw, d, tU\n",
    "\n",
    "\n",
    "\n",
    "# Function to calculate the ***dose reduction factor*** over uptake time\n",
    "def RtU(T1_2, tU):\n",
    "    rtU_value = 1.443 * (T1_2 / tU) * (1 - math.exp(-0.693 * tU / T1_2))\n",
    "    print(f\"RtU: {rtU_value}\")\n",
    "    return rtU_value\n",
    "\n",
    "#The total dose at a point d meters from the patient during the uptake time(tU) is\n",
    "def DtU(dr, A0, tU, RtU, d):\n",
    "    dose_uptake = dr * A0 * tU * (RtU / d**2)\n",
    "    print(f\"DtU: {dose_uptake}\")\n",
    "    return dose_uptake\n",
    "\n",
    "\n",
    "# Function to calculate transmission factor for the uptake room\n",
    "def B_uptake_room(P, d, T, Nw, A0, tU, RtU):\n",
    "    return 10.9 * P * (d ** 2) / (T * Nw * A0 * tU * RtU)\n",
    "\n",
    "\n",
    "\n",
    "\n",
    "# Main function to run the calculation for both controlled and uncontrolled areas\n",
    "def calculate_transmission_factors():\n",
    "    # Get user inputs\n",
    "    Nw, d, tU = get_inputs()\n",
    "    \n",
    "    # Calculate the dose reduction factor RtU & RtI\n",
    "    rtU = RtU(T1_2, tU)\n",
    "\n",
    "    # Calculate the transmission factor B for uncontrolled and controlled areas\n",
    "    B_U_uncontrolled = B_uptake_room(P_uncontrolled, d, T, Nw, A0, tU, rtU)\n",
    "    B_U_controlled = B_uptake_room(P_controlled, d, T, Nw, A0, tU, rtU)\n",
    "\n",
    "\n",
    "    \n",
    "     # Output the results\n",
    "    print(f\"\\nTransmission Factor (B) for the uptake room (Uncontrolled area): {B_U_uncontrolled:.4f} \")\n",
    "    print(f\"Transmission Factor (B) for the uptake room (Controlled area): {B_U_controlled:.4f} \")\n",
    "\n",
    "    return {\n",
    "        \"Uptake Room Uncontrolled\": B_U_uncontrolled,\n",
    "        \"Uptake Room Controlled\": B_U_controlled,\n",
    "\n",
    "    }\n",
    "\n",
    "# Run the calculations and store the results\n",
    "B_results = calculate_transmission_factors()"
   ]
  }
 ],
 "metadata": {
  "kernelspec": {
   "display_name": "Python 3",
   "language": "python",
   "name": "python3"
  },
  "language_info": {
   "codemirror_mode": {
    "name": "ipython",
    "version": 3
   },
   "file_extension": ".py",
   "mimetype": "text/x-python",
   "name": "python",
   "nbconvert_exporter": "python",
   "pygments_lexer": "ipython3",
   "version": "3.12.4"
  }
 },
 "nbformat": 4,
 "nbformat_minor": 2
}
