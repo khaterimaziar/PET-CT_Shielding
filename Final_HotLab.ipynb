{
 "cells": [
  {
   "cell_type": "code",
   "execution_count": 6,
   "metadata": {},
   "outputs": [
    {
     "name": "stdout",
     "output_type": "stream",
     "text": [
      "Reduction Factor: 0.2045\n"
     ]
    }
   ],
   "source": [
    "import math\n",
    "\n",
    "#def get_inputs():\n",
    "    #t = float(input(\"Enter time of calcualation (min)(767.9 for 7HalfLife): \"))\n",
    "    #A0= float (input(\"Enter the Iniatal Activity (MBq)): \"))\n",
    "    #return t, A0\n",
    "\n",
    "\n",
    "# Calcualation the Reduction Factor\n",
    "#The Total Radation Dose recieved over time t is D(t)\n",
    "# In the HOTLAB, t equals 7 times T12, meaning the source activity is nearly zero.\n",
    "t=1.833 * 7 \n",
    "def Rt(t):\n",
    "    T12 = 1.833 #min\n",
    "    Rt = 1.443 * (T12 / t ) * (1- math.exp(-0.693 * (t /T12)))\n",
    "    return Rt\n",
    "\n",
    "reduction_factor =Rt(t)\n",
    "print(f\"Reduction Factor: {reduction_factor:.4f}\")\n"
   ]
  },
  {
   "cell_type": "code",
   "execution_count": 7,
   "metadata": {},
   "outputs": [
    {
     "name": "stdout",
     "output_type": "stream",
     "text": [
      "cumulative_dose: 377.0644 uSv\n"
     ]
    }
   ],
   "source": [
    "A0= 37000 #MBq daily dose\n",
    "distance= 0.3 # from the behinde wall\n",
    "# Impact of Vial Shielding 40mm lead reduction factor 0.002444\n",
    "cumulative_dose = (0.143 * A0 * reduction_factor * t * 0.002444)/(distance ** 2)\n",
    "\n",
    "print(f\"cumulative_dose: {cumulative_dose:.4f} uSv\")"
   ]
  },
  {
   "cell_type": "code",
   "execution_count": 8,
   "metadata": {},
   "outputs": [
    {
     "name": "stdout",
     "output_type": "stream",
     "text": [
      "0.2652067197531362 0.053041343950627234\n"
     ]
    }
   ],
   "source": [
    "uncontrol_area_limitaion_B= 20 #uSv\n",
    "control_area_limitaion_B= 100 #uSv\n",
    "\n",
    "B_uc= uncontrol_area_limitaion_B/cumulative_dose\n",
    "B_c= control_area_limitaion_B / cumulative_dose\n",
    "\n",
    "print(B_c, B_uc)"
   ]
  },
  {
   "cell_type": "code",
   "execution_count": 9,
   "metadata": {},
   "outputs": [
    {
     "name": "stdout",
     "output_type": "stream",
     "text": [
      "Shielding thickness for lead (Uncontrolled Area): 20.05 mm\n",
      "Shielding thickness for concrete (Uncontrolled Area): 23.47 cm\n",
      "Shielding thickness for lead (Controlled Area): 9.57 mm\n",
      "Shielding thickness for concrete (Controlled Area): 12.87 cm\n"
     ]
    }
   ],
   "source": [
    "# X = Shileding Thickness\n",
    "def calculate_x(alpha, beta,  gamma, B):\n",
    "    # The Monte Carlo transmission data have been fitted  to the Model By the following parameters by Archer et al. \n",
    "    # #visit: https://pmc.ncbi.nlm.nih.gov/articles/PMC3155576/\n",
    "    numerator = (B ** (-gamma)) + (beta / alpha)\n",
    "    denominator = 1 + (beta / alpha)\n",
    "    x = (1 / (alpha * gamma)) * math.log(numerator / denominator)\n",
    "    return x\n",
    "\n",
    "\n",
    "# Lead Parameters\n",
    "lead_params = (1.543, -0.4408, 2.136)  # (alpha, beta, gamma)\n",
    "# concrete Parameters\n",
    "concrete_params = (0.1539, -0.1161, 2.0752)  # (alpha, beta, gamma)\n",
    "\n",
    "\n",
    "lead_thickness_uc = calculate_x(*lead_params, B_uc)\n",
    "print(f\"Shielding thickness for lead (Uncontrolled Area): {lead_thickness_uc/0.1:.2f} mm\")\n",
    "\n",
    "concrete_thickness_uc = calculate_x(*concrete_params, B_uc)\n",
    "print(f\"Shielding thickness for concrete (Uncontrolled Area): {concrete_thickness_uc:.2f} cm\")\n",
    "\n",
    "lead_thickness_c = calculate_x(*lead_params, B_c)\n",
    "print(f\"Shielding thickness for lead (Controlled Area): {lead_thickness_c/0.1:.2f} mm\")\n",
    "\n",
    "concrete_thickness_c = calculate_x(*concrete_params, B_c)\n",
    "print(f\"Shielding thickness for concrete (Controlled Area): {concrete_thickness_c:.2f} cm\")"
   ]
  }
 ],
 "metadata": {
  "kernelspec": {
   "display_name": "Python 3",
   "language": "python",
   "name": "python3"
  },
  "language_info": {
   "codemirror_mode": {
    "name": "ipython",
    "version": 3
   },
   "file_extension": ".py",
   "mimetype": "text/x-python",
   "name": "python",
   "nbconvert_exporter": "python",
   "pygments_lexer": "ipython3",
   "version": "3.12.4"
  }
 },
 "nbformat": 4,
 "nbformat_minor": 2
}
