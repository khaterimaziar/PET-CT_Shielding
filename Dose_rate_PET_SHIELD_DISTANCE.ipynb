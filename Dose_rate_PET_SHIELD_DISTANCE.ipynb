{
 "cells": [
  {
   "cell_type": "code",
   "execution_count": 1,
   "metadata": {},
   "outputs": [
    {
     "name": "stdout",
     "output_type": "stream",
     "text": [
      "R_tU: 0.83\n",
      "D_tU: 21.08 µSv\n"
     ]
    }
   ],
   "source": [
    "import math\n",
    "\n",
    "# مقداردهی اولیه متغیرها\n",
    "T_half = 1.83  # نیمه‌عمر (واحد: ساعت)\n",
    "t_U = 1        # زمان استفاده (واحد: ساعت)\n",
    "A_0 = 333      # فعالیت اولیه (واحد: مگابکرل)\n",
    "d = 1.1        # فاصله (واحد: متر)\n",
    "\n",
    "# محاسبه R_tU\n",
    "R_tU = 1.443 * (T_half / t_U) * (1 - math.exp(-0.693 * t_U / T_half))\n",
    "\n",
    "# محاسبه D_tU\n",
    "D_tU = 0.092 * A_0 * t_U * R_tU / (d ** 2)\n",
    "\n",
    "# نمایش نتایج\n",
    "print(f\"R_tU: {R_tU:.2f}\")\n",
    "print(f\"D_tU: {D_tU:.2f} µSv\")\n"
   ]
  },
  {
   "cell_type": "code",
   "execution_count": 3,
   "metadata": {},
   "outputs": [
    {
     "name": "stdout",
     "output_type": "stream",
     "text": [
      "R_tU (نسبت دوز جذب شده): 0.83\n",
      "D_tU (دوز بدون شیلد): 21.08 µSv\n",
      "B (ضریب کاهش شیلد): 0.00000\n",
      "D_tU (دوز پس از شیلد): 0.00 µSv\n"
     ]
    }
   ],
   "source": [
    "import math\n",
    "\n",
    "# مقداردهی اولیه متغیرها\n",
    "T_half = 1.83  # نیمه‌عمر (واحد: ساعت)\n",
    "t_U = 1        # زمان استفاده (واحد: ساعت)\n",
    "A_0 = 333      # فعالیت اولیه (واحد: مگابکرل)\n",
    "d = 1.1        # فاصله (واحد: متر)\n",
    "TVL = 17.6     # TVL برای گامای 512 کیلوالکترون‌ولت (واحد: سانتی‌متر)\n",
    "x = 150         # ضخامت شیلد (واحد: سانتی‌متر)\n",
    "\n",
    "# محاسبه R_tU\n",
    "R_tU = 1.443 * (T_half / t_U) * (1 - math.exp(-0.693 * t_U / T_half))\n",
    "\n",
    "# محاسبه دوز بدون شیلد\n",
    "D_tU = 0.092 * A_0 * t_U * R_tU / (d ** 2)\n",
    "\n",
    "# محاسبه ضریب کاهش شیلد\n",
    "B = 10 ** (-x / TVL)\n",
    "\n",
    "# محاسبه دوز با شیلد\n",
    "D_tU_shielded = D_tU * B\n",
    "\n",
    "# نمایش نتایج\n",
    "print(f\"R_tU (نسبت دوز جذب شده): {R_tU:.2f}\")\n",
    "print(f\"D_tU (دوز بدون شیلد): {D_tU:.2f} µSv\")\n",
    "print(f\"B (ضریب کاهش شیلد): {B:.5f}\")\n",
    "print(f\"D_tU (دوز پس از شیلد): {D_tU_shielded:.2f} µSv\")\n"
   ]
  },
  {
   "cell_type": "code",
   "execution_count": 2,
   "metadata": {},
   "outputs": [
    {
     "name": "stdout",
     "output_type": "stream",
     "text": [
      "R_tU (نسبت دوز جذب شده): 0.83\n",
      "D_tU (در هفته دوز بدون شیلد): 7.06 µSv\n",
      "B (ضریب کاهش شیلد): 0.01974\n",
      "D_tU (دوز پس از شیلد): 0.14 µSv\n",
      "N_year (تعداد بیماران در سال): 2496\n",
      "D_total (دوز نهایی سالانه با شیلد): 87.04 µSv\n"
     ]
    }
   ],
   "source": [
    "import math\n",
    "\n",
    "# مقداردهی اولیه متغیرها\n",
    "T_half = 1.83       # نیمه‌عمر (واحد: ساعت)\n",
    "t_U = 1             # زمان استفاده (واحد: ساعت)\n",
    "A_0 = 333           # فعالیت اولیه (واحد: مگابکرل)\n",
    "d = 1.9            # فاصله (واحد: متر)\n",
    "TVL = 17.6          # TVL برای گامای 512 کیلوالکترون‌ولت (واحد: سانتی‌متر)\n",
    "x = 30            # ضخامت شیلد (واحد: سانتی‌متر)\n",
    "N_week = 48         # تعداد بیماران در هفته\n",
    "F = 0.25            # ضریب فاکتور اشغال (مثلاً 25%)\n",
    "\n",
    "# محاسبه تعداد بیماران در سال\n",
    "N_year = N_week * 52\n",
    "\n",
    "# محاسبه R_tU\n",
    "R_tU = 1.443 * (T_half / t_U) * (1 - math.exp(-0.693 * t_U / T_half))\n",
    "\n",
    "# محاسبه دوز بدون شیلد\n",
    "D_tU = 0.092 * A_0 * t_U * R_tU / (d ** 2)\n",
    "\n",
    "# محاسبه ضریب کاهش شیلد\n",
    "B = 10 ** (-x / TVL)\n",
    "\n",
    "# محاسبه دوز با شیلد\n",
    "D_tU_shielded = D_tU * B\n",
    "\n",
    "# محاسبه دوز نهایی سالانه با تعداد بیماران و فاکتور اشغال\n",
    "D_total = D_tU_shielded * N_year * F\n",
    "\n",
    "# نمایش نتایج\n",
    "print(f\"R_tU (نسبت دوز جذب شده): {R_tU:.2f}\")\n",
    "print(f\"D_tU (در هفته دوز بدون شیلد): {D_tU:.2f} µSv\")\n",
    "print(f\"B (ضریب کاهش شیلد): {B:.5f}\")\n",
    "print(f\"D_tU (دوز پس از شیلد): {D_tU_shielded:.2f} µSv\")\n",
    "print(f\"N_year (تعداد بیماران در سال): {N_year}\")\n",
    "print(f\"D_total (دوز نهایی سالانه با شیلد): {D_total:.2f} µSv\")\n"
   ]
  },
  {
   "cell_type": "code",
   "execution_count": null,
   "metadata": {},
   "outputs": [],
   "source": []
  }
 ],
 "metadata": {
  "kernelspec": {
   "display_name": "Python 3",
   "language": "python",
   "name": "python3"
  },
  "language_info": {
   "codemirror_mode": {
    "name": "ipython",
    "version": 3
   },
   "file_extension": ".py",
   "mimetype": "text/x-python",
   "name": "python",
   "nbconvert_exporter": "python",
   "pygments_lexer": "ipython3",
   "version": "3.12.4"
  }
 },
 "nbformat": 4,
 "nbformat_minor": 2
}
