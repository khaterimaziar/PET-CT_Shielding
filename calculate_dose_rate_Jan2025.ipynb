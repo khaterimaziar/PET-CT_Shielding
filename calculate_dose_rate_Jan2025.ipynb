{
 "cells": [
  {
   "cell_type": "code",
   "execution_count": 40,
   "metadata": {},
   "outputs": [
    {
     "name": "stdout",
     "output_type": "stream",
     "text": [
      "Radiation Dose Rate (R_ij): 1.8×10⁻1 mSv·h⁻¹\n"
     ]
    }
   ],
   "source": [
    "import math\n",
    "\n",
    "def calculate_dose_rate(A_i, t_m, TVL_m, d_ij, Gamma_i=1.97e-5):\n",
    "    \"\"\"\n",
    "    Calculate the radiation dose rate (R_ij) for Tc-99m or any source with a specified Gamma constant.\n",
    "\n",
    "    Parameters:\n",
    "        A_i (float): Activity of nuclear substance i (in MBq).\n",
    "        t_m (float): Thickness of shielding material m (in mm).\n",
    "        TVL_m (float): Tenth Value Layer (TVL) thickness of material m (in mm).\n",
    "        d_ij (float): Distance between nuclear substance i and location j (in m).\n",
    "        Gamma_i (float): Specific gamma-ray constant (default: Tc-99m value, in mSv·h⁻¹·MBq⁻¹·m²).\n",
    "\n",
    "    Returns:\n",
    "        str: Radiation dose rate (R_ij) in proper scientific notation format.\n",
    "    \"\"\"\n",
    "    # Calculate the dose rate using the formula\n",
    "    exponent = -t_m / TVL_m\n",
    "    R_ij = (Gamma_i * A_i * 10**exponent) / (d_ij**2)\n",
    "    \n",
    "    # Convert result to scientific notation\n",
    "    base, exp = f\"{R_ij:.1e}\".split(\"e\")\n",
    "    #base = base.replace(\".\", \",\")  # Replace decimal point with a comma\n",
    "    exp = int(exp)  # Convert exponent to integer for proper formatting\n",
    "    return f\"{base}×10⁻{abs(exp)} mSv·h⁻¹\"\n",
    "\n",
    "# Example usage:\n",
    "A_i = 37000     # Activity in MBq\n",
    "t_m = 12     # Thickness of shielding material in mm\n",
    "TVL_m = 20      # Tenth Value Layer in mm\n",
    "d_ij = 1       # Distance from the source in meters\n",
    "\n",
    "R_ij = calculate_dose_rate(A_i, t_m, TVL_m, d_ij)\n",
    "print(f\"Radiation Dose Rate (R_ij): {R_ij}\")\n"
   ]
  },
  {
   "cell_type": "markdown",
   "metadata": {},
   "source": [
    " Annual Dose Calculations\n"
   ]
  },
  {
   "cell_type": "code",
   "execution_count": 6,
   "metadata": {},
   "outputs": [
    {
     "name": "stdout",
     "output_type": "stream",
     "text": [
      "Radiation Dose Rate (R_ij): 3.71e-04 mSv·h⁻¹\n",
      "Annual Dose (D_ij): 2.04e+01 uSv/yr\n"
     ]
    }
   ],
   "source": [
    "# Combined Calculation for R_ij and D_ij\n",
    "\n",
    "import math\n",
    "\n",
    "# Step 1: Function to calculate Radiation Dose Rate (R_ij)\n",
    "def calculate_dose_rate(A_i, t_m, TVL_m, d_ij, Gamma_i=1.97e-5):\n",
    "    \"\"\"\n",
    "    Calculate the radiation dose rate (R_ij) for Tc-99m or any source with a specified Gamma constant.\n",
    "\n",
    "    Parameters:\n",
    "        A_i (float): Activity of nuclear substance i (in MBq).\n",
    "        t_m (float): Thickness of shielding material m (in mm).\n",
    "        TVL_m (float): Tenth Value Layer (TVL) thickness of material m (in mm).\n",
    "        d_ij (float): Distance between nuclear substance i and location j (in m).\n",
    "        Gamma_i (float): Specific gamma-ray constant (default: Tc-99m value, in mSv·h⁻¹·MBq⁻¹·m²).\n",
    "\n",
    "    Returns:\n",
    "        float: Radiation dose rate (R_ij) in mSv·h⁻¹.\n",
    "    \"\"\"\n",
    "    exponent = -t_m / TVL_m\n",
    "    R_ij = (Gamma_i * A_i * 10**exponent) / (d_ij**2)\n",
    "    return R_ij\n",
    "\n",
    "# Step 2: Function to calculate Annual Dose (D_ij)\n",
    "def calculate_annual_dose(N, T, R_ij, S_i):\n",
    "    \"\"\"\n",
    "    Calculate the annual dose (D_ij) using the provided formula.\n",
    "\n",
    "    Parameters:\n",
    "        N (int): Total number of procedures performed per year.\n",
    "        T (float): Occupancy factor for the exposed person and occupied location.\n",
    "        R_ij (float): Radiation dose rate at location j (in mSv·h⁻¹).\n",
    "        S_i (float): Duration of time the source/injected patient is present (in hours).\n",
    "\n",
    "    Returns:\n",
    "        float: Annual dose (D_ij) in mSv.\n",
    "    \"\"\"\n",
    "    D_ij = N * T * R_ij * S_i\n",
    "    return D_ij\n",
    "\n",
    "# Example Inputs\n",
    "A_i = 1470     # Activity in MBq\n",
    "t_m = 1.6      # Thickness of shielding material in mm\n",
    "TVL_m = 1   # Tenth Value Layer in mm\n",
    "d_ij =1.4      # Distance from the source in meters\n",
    "N = 2200       # Procedures performed per year\n",
    "T = 0.25        # Occupancy factor #0.0625\n",
    "S_i = 0.1  # Duration of time in hours 0.66\n",
    "\n",
    "# Perform Calculations\n",
    "R_ij = calculate_dose_rate(A_i, t_m, TVL_m, d_ij)\n",
    "D_ij = calculate_annual_dose(N, T, R_ij, S_i)\n",
    "\n",
    "# Print Results\n",
    "print(f\"Radiation Dose Rate (R_ij): {R_ij:.2e} mSv·h⁻¹\")\n",
    "#print(f\"Annual Dose (D_ij): {D_ij:.2e*1000} uSv/yr\")\n",
    "print(f\"Annual Dose (D_ij): {D_ij * 1000:.2e} uSv/yr\")\n",
    "\n"
   ]
  }
 ],
 "metadata": {
  "kernelspec": {
   "display_name": "Python 3",
   "language": "python",
   "name": "python3"
  },
  "language_info": {
   "codemirror_mode": {
    "name": "ipython",
    "version": 3
   },
   "file_extension": ".py",
   "mimetype": "text/x-python",
   "name": "python",
   "nbconvert_exporter": "python",
   "pygments_lexer": "ipython3",
   "version": "3.12.4"
  }
 },
 "nbformat": 4,
 "nbformat_minor": 2
}
